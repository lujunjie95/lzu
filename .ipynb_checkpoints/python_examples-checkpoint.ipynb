{
 "cells": [
  {
   "cell_type": "markdown",
   "metadata": {},
   "source": [
    "# Python good examples learn from Youtube"
   ]
  },
  {
   "cell_type": "markdown",
   "metadata": {},
   "source": [
    "Yesterday when I looked for Jupyter tutorial in Youtube, I found a good vloger introducing python tutorial for begginers.\n",
    "\n",
    "So, in this document, I will collect some good examples in python using jupyter."
   ]
  },
  {
   "cell_type": "markdown",
   "metadata": {},
   "source": [
    "##  Figure plotting\n",
    "\n",
    "This example can be used in when I want to show a figure."
   ]
  },
  {
   "cell_type": "code",
   "execution_count": 11,
   "metadata": {},
   "outputs": [
    {
     "data": {
      "text/plain": [
       "<function matplotlib.pyplot.show(*args, **kw)>"
      ]
     },
     "execution_count": 11,
     "metadata": {},
     "output_type": "execute_result"
    },
    {
     "data": {
      "image/png": "[encoded data removed]",
      "text/plain": [
       "<Figure size 432x288 with 1 Axes>"
      ]
     },
     "metadata": {
      "needs_background": "light"
     },
     "output_type": "display_data"
    }
   ],
   "source": [
    "%matplotlib inline\n",
    "import matplotlib.pyplot as plt\n",
    "import numpy as np\n",
    "\n",
    "N = 50\n",
    "x = np.random.rand(N)\n",
    "y = np.random.rand(N)\n",
    "colors = np.random.rand(N)\n",
    "area = np.pi * (15 * np.random.rand(N))**2\n",
    "\n",
    "plt.scatter(x, y, s=area, c=colors, alpha=0.5)\n",
    "plt.show"
   ]
  },
  {
   "cell_type": "markdown",
   "metadata": {},
   "source": [
    "## Pandas \n",
    "\n",
    "This example shows Pandas using in python."
   ]
  },
  {
   "cell_type": "code",
   "execution_count": 2,
   "metadata": {},
   "outputs": [
    {
     "data": {
      "text/html": [
       "<div>\n",
       "<style scoped>\n",
       "    .dataframe tbody tr th:only-of-type {\n",
       "        vertical-align: middle;\n",
       "    }\n",
       "\n",
       "    .dataframe tbody tr th {\n",
       "        vertical-align: top;\n",
       "    }\n",
       "\n",
       "    .dataframe thead th {\n",
       "        text-align: right;\n",
       "    }\n",
       "</style>\n",
       "<table border=\"1\" class=\"dataframe\">\n",
       "  <thead>\n",
       "    <tr style=\"text-align: right;\">\n",
       "      <th></th>\n",
       "      <th>0</th>\n",
       "      <th>1</th>\n",
       "      <th>2</th>\n",
       "      <th>3</th>\n",
       "      <th>4</th>\n",
       "    </tr>\n",
       "  </thead>\n",
       "  <tbody>\n",
       "    <tr>\n",
       "      <th>0</th>\n",
       "      <td>0.830490</td>\n",
       "      <td>-0.636947</td>\n",
       "      <td>2.165524</td>\n",
       "      <td>0.875678</td>\n",
       "      <td>-0.843389</td>\n",
       "    </tr>\n",
       "    <tr>\n",
       "      <th>1</th>\n",
       "      <td>-1.189715</td>\n",
       "      <td>-1.435322</td>\n",
       "      <td>1.204468</td>\n",
       "      <td>1.121402</td>\n",
       "      <td>-1.494951</td>\n",
       "    </tr>\n",
       "    <tr>\n",
       "      <th>2</th>\n",
       "      <td>0.853042</td>\n",
       "      <td>-0.780546</td>\n",
       "      <td>-0.114978</td>\n",
       "      <td>-0.924707</td>\n",
       "      <td>0.406791</td>\n",
       "    </tr>\n",
       "    <tr>\n",
       "      <th>3</th>\n",
       "      <td>-1.250883</td>\n",
       "      <td>-0.981436</td>\n",
       "      <td>0.625018</td>\n",
       "      <td>0.633423</td>\n",
       "      <td>0.936139</td>\n",
       "    </tr>\n",
       "    <tr>\n",
       "      <th>4</th>\n",
       "      <td>1.407654</td>\n",
       "      <td>-1.007781</td>\n",
       "      <td>-0.048091</td>\n",
       "      <td>-1.082352</td>\n",
       "      <td>1.222209</td>\n",
       "    </tr>\n",
       "  </tbody>\n",
       "</table>\n",
       "</div>"
      ],
      "text/plain": [
       "          0         1         2         3         4\n",
       "0  0.830490 -0.636947  2.165524  0.875678 -0.843389\n",
       "1 -1.189715 -1.435322  1.204468  1.121402 -1.494951\n",
       "2  0.853042 -0.780546 -0.114978 -0.924707  0.406791\n",
       "3 -1.250883 -0.981436  0.625018  0.633423  0.936139\n",
       "4  1.407654 -1.007781 -0.048091 -1.082352  1.222209"
      ]
     },
     "execution_count": 2,
     "metadata": {},
     "output_type": "execute_result"
    }
   ],
   "source": [
    "import pandas as pd\n",
    "import numpy as np\n",
    "\n",
    "df = pd.DataFrame(np.random.randn(10,5))\n",
    "df.head()"
   ]
  },
  {
   "cell_type": "markdown",
   "metadata": {},
   "source": [
    "## String and variables\n",
    "\n",
    "This example can be used in saving or loading all different experiment datas."
   ]
  },
  {
   "cell_type": "code",
   "execution_count": 4,
   "metadata": {},
   "outputs": [
    {
     "name": "stdout",
     "output_type": "stream",
     "text": [
      "python, hello, jupyter, 10\n",
      "python, hello, jupyter, 9\n",
      "python, hello, jupyter, 8\n",
      "python, hello, jupyter, 7\n",
      "python, hello, jupyter, 6\n",
      "python, hello, jupyter, 5\n"
     ]
    }
   ],
   "source": [
    "greet = 'hello'\n",
    "name = 'python'\n",
    "number = [10, 9, 8, 7, 6, 5]\n",
    "message = []\n",
    "for i in range(len(number)):\n",
    "    message.append(f'{name}, {greet}, jupyter, {number[i]}')\n",
    "    print(message[i])"
   ]
  },
  {
   "cell_type": "markdown",
   "metadata": {},
   "source": [
    "## List\n",
    "\n",
    "This example shows how **.join** and **.split** use in python."
   ]
  },
  {
   "cell_type": "code",
   "execution_count": 9,
   "metadata": {},
   "outputs": [
    {
     "name": "stdout",
     "output_type": "stream",
     "text": [
      "A - B - C - D\n",
      "['A', 'B', 'C', 'D']\n"
     ]
    }
   ],
   "source": [
    "courses = ['A', 'B', 'C', 'D']\n",
    "course_str = ' - '.join(courses)\n",
    "new_list = course_str.split(' - ')\n",
    "\n",
    "print(course_str)\n",
    "print(new_list)"
   ]
  },
  {
   "cell_type": "markdown",
   "metadata": {},
   "source": [
    "Actually, in my python program, I also use **.join** to creat a new string list to adjust the other functions."
   ]
  },
  {
   "cell_type": "code",
   "execution_count": 11,
   "metadata": {},
   "outputs": [
    {
     "name": "stdout",
     "output_type": "stream",
     "text": [
      "S_ALL[0],S_ALL[1],S_ALL[2]\n"
     ]
    }
   ],
   "source": [
    "Parts = 3\n",
    "S_save_part = \"S_ALL\" + \",S_ALL\".join(str([i]) for i in list(range(Parts)))\n",
    "\n",
    "print(S_save_part)\n",
    "\n",
    "#S_save_sum = np.vstack((eval(S_save_part)))     merge S_ALL[0],S_ALL[1],S_ALL[2] to one matrix"
   ]
  },
  {
   "cell_type": "markdown",
   "metadata": {},
   "source": [
    "## Function\n",
    "\n",
    "This example will combian the function and the string."
   ]
  },
  {
   "cell_type": "code",
   "execution_count": 4,
   "metadata": {},
   "outputs": [
    {
     "name": "stdout",
     "output_type": "stream",
     "text": [
      "Hi, Tom\n"
     ]
    }
   ],
   "source": [
    "def hello_func(greet, name = 'You'):\n",
    "     return f'{greet}, {name}'\n",
    "    \n",
    "print(hello_func('Hi',name = 'Tom'))"
   ]
  },
  {
   "cell_type": "code",
   "execution_count": 6,
   "metadata": {},
   "outputs": [
    {
     "name": "stdout",
     "output_type": "stream",
     "text": [
      "('Math', 'Art')\n",
      "{'name': 'John', 'age': 22}\n"
     ]
    }
   ],
   "source": [
    "def student_info(*args, **kwargs):\n",
    "    print(args)\n",
    "    print(kwargs)\n",
    "    \n",
    "courses = ['Math', 'Art']\n",
    "info = {'name': 'John', 'age': 22}\n",
    "\n",
    "student_info(*courses, **info)"
   ]
  }
 ],
 "metadata": {
  "kernelspec": {
   "display_name": "Python 3",
   "language": "python",
   "name": "python3"
  },
  "language_info": {
   "codemirror_mode": {
    "name": "ipython",
    "version": 3
   },
   "file_extension": ".py",
   "mimetype": "text/x-python",
   "name": "python",
   "nbconvert_exporter": "python",
   "pygments_lexer": "ipython3",
   "version": "3.6.3"
  }
 },
 "nbformat": 4,
 "nbformat_minor": 2
}
