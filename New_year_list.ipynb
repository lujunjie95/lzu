{
 "cells": [
  {
   "cell_type": "markdown",
   "metadata": {},
   "source": [
    "# NEW YEAR LIST\n",
    "\n",
    "- Nice, France\n",
    "\n",
    "- IELTS 7.0\n",
    "\n",
    "- Vlog and Go Pro\n",
    "\n",
    "- Experiment and Paper\n",
    "\n",
    "- Xiamen Vacation\n",
    "\n",
    "- Cooking\n"
   ]
  }
 ],
 "metadata": {
  "kernelspec": {
   "display_name": "Python 3",
   "language": "python",
   "name": "python3"
  },
  "language_info": {
   "codemirror_mode": {
    "name": "ipython",
    "version": 3
   },
   "file_extension": ".py",
   "mimetype": "text/x-python",
   "name": "python",
   "nbconvert_exporter": "python",
   "pygments_lexer": "ipython3",
   "version": "3.6.3"
  }
 },
 "nbformat": 4,
 "nbformat_minor": 2
}
